








# Import dependencies
from pymongo import MongoClient
from pprint import pprint


# Create an instance of MongoClient
mongo = MongoClient(port=27017)


# confirm that our new database was created
pprint(mongo.list_database_names())

# 'ugh' ~ my poor computer


# assign the uk_food database to a variable name
db = mongo['uk_food']


# review the collections in our new database
pprint(db.list_collection_names())


# review the collections in our new database
# ^
# pretty sure I just did that


# review a document in the establishments collection
pprint(db.establishments.find_one())


# assign the collection to a variable
establishments = db['establishments']








# Create a dictionary for the new restaurant data
input = {
    "BusinessName":"Penang Flavours",
    "BusinessType":"Restaurant/Cafe/Canteen",
    "BusinessTypeID":"",
    "AddressLine1":"Penang Flavours",
    "AddressLine2":"146A Plumstead Rd",
    "AddressLine3":"London",
    "AddressLine4":"",
    "PostCode":"SE18 7DY",
    "Phone":"",
    "LocalAuthorityCode":"511",
    "LocalAuthorityName":"Greenwich",
    "LocalAuthorityWebSite":"http://www.royalgreenwich.gov.uk",
    "LocalAuthorityEmailAddress":"health@royalgreenwich.gov.uk",
    "scores":{
        "Hygiene":"",
        "Structural":"",
        "ConfidenceInManagement":""
    },
    "SchemeType":"FHRS",
    "geocode":{
        "longitude":"0.08384000",
        "latitude":"51.49014200"
    },
    "RightToReply":"",
    "Distance":4623.9723280747176,
    "NewRatingPending":True
}


# Insert the new restaurant into the collection
establishments.insert_one(input)


# Check that the new restaurant was inserted
pprint(establishments.find_one({"BusinessName":"Penang Flavours"}))





# Find the BusinessTypeID for "Restaurant/Cafe/Canteen" and return only the BusinessTypeID and BusinessType fields
# heh, lucked out with my first find_one exploration:
# 'BusinessType': 'Restaurant/Cafe/Canteen',
# 'BusinessTypeID': 1,
eg = {'BusinessName': 'Mrs Knotts Tea Room'}
id = {'BusinessTypeID', 'BusinessType'}

pprint(establishments.find_one(eg, id))





# Update the new restaurant with the correct BusinessTypeID
pf_name = {'BusinessName':'Penang Flavours'}
establishments.update_one(pf_name, {'$set':{ 'BusinessTypeID': 1}})


# Confirm that the new restaurant was updated
pprint(establishments.find_one(pf_name, id))

# if you're particular, run this for all the deets:
# pprint(establishments.find_one(pf_name))





# Find how many documents have LocalAuthorityName as "Dover"
dover = {'LocalAuthorityName': 'Greenwich'}
dovers = establishments.find(dover)

establishments.count_documents(dover)

# saving this for later...
# for whatever in dovers:
#    pprint(whatever)


# Delete all documents where LocalAuthorityName is "Dover"
establishments.delete_many(dover)


# Check if any remaining documents include Dover
for whatever in dovers:
    pprint(whatever)


# Check that other documents remain with 'find_one'
establishments.find_one()








# Change the data type from String to Decimal for longitude and latitude
long = 'geocode.longitude'
slong = '$geocode.longitude'
lat = 'geocode.latitude'
slat = '$geocode.latitude'
establishments.update_many({}, [ {'$set':{ long : {'$toDouble': slong},  lat : {'$toDouble': slat} }   } ])





# Set non 1-5 Rating Values to Null
non_ratings = ["AwaitingInspection", "Awaiting Inspection", "AwaitingPublication", "Pass", "Exempt"]
establishments.update_many({"RatingValue": {"$in": non_ratings}}, [ {'$set':{ "RatingValue" : None}} ])


# Change the data type from String to Integer for RatingValue
establishments.update_many({}, [ {'$set':{ 'RatingValue' : {'$toInt':'$RatingValue'} }   } ])


# Check that the coordinates and rating value are now numbers
results = {long, lat, 'RatingValue'}
tricky = establishments.find_one({}, results)
for dtype in tricky:
    pprint(dtype)
    pprint(type(tricky[dtype]))

# okay... halfway there


coordinates_only = {long, lat}
holy_cow = establishments.find_one({}, coordinates_only)
pprint(holy_cow)
    


for milk in holy_cow.keys():
    print(milk, type(holy_cow[milk]))
#    for whey in milk.keys():
#        pprint(whey, type(milk[whey]))


# well, I'm giving up on the gocode paramater datatypes, here's a json with numbers

pprint(tricky)



